{
 "cells": [
  {
   "cell_type": "code",
   "execution_count": 1,
   "metadata": {},
   "outputs": [],
   "source": [
    "import dotenv\n",
    "from langchain_openai import ChatOpenAI\n",
    "\n",
    "dotenv.load_dotenv()\n",
    "\n",
    "chat_model = ChatOpenAI(\n",
    "    model=\"gpt-3.5-turbo-0125\",\n",
    "    temperature=0.5,\n",
    ")\n"
   ]
  },
  {
   "cell_type": "code",
   "execution_count": 4,
   "metadata": {},
   "outputs": [
    {
     "ename": "ModuleNotFoundError",
     "evalue": "No module named 'langchain_intro'",
     "output_type": "error",
     "traceback": [
      "\u001b[0;31m---------------------------------------------------------------------------\u001b[0m",
      "\u001b[0;31mModuleNotFoundError\u001b[0m                       Traceback (most recent call last)",
      "\u001b[1;32m/workspaces/generative_ai_projects/streamlit-rag/rag_testing.ipynb Cell 2\u001b[0m line \u001b[0;36m2\n\u001b[1;32m      <a href='vscode-notebook-cell://codespaces%2Bfantastic-journey-gx96qwvvx9qhwr9/workspaces/generative_ai_projects/streamlit-rag/rag_testing.ipynb#W1sdnNjb2RlLXJlbW90ZQ%3D%3D?line=0'>1</a>\u001b[0m \u001b[39mfrom\u001b[39;00m \u001b[39mlangchain\u001b[39;00m\u001b[39m.\u001b[39;00m\u001b[39mschema\u001b[39;00m\u001b[39m.\u001b[39;00m\u001b[39mmessages\u001b[39;00m \u001b[39mimport\u001b[39;00m HumanMessage, SystemMessage\n\u001b[0;32m----> <a href='vscode-notebook-cell://codespaces%2Bfantastic-journey-gx96qwvvx9qhwr9/workspaces/generative_ai_projects/streamlit-rag/rag_testing.ipynb#W1sdnNjb2RlLXJlbW90ZQ%3D%3D?line=1'>2</a>\u001b[0m \u001b[39mfrom\u001b[39;00m \u001b[39mlangchain_intro\u001b[39;00m\u001b[39m.\u001b[39;00m\u001b[39mchatbot\u001b[39;00m \u001b[39mimport\u001b[39;00m chat_model\n\u001b[1;32m      <a href='vscode-notebook-cell://codespaces%2Bfantastic-journey-gx96qwvvx9qhwr9/workspaces/generative_ai_projects/streamlit-rag/rag_testing.ipynb#W1sdnNjb2RlLXJlbW90ZQ%3D%3D?line=3'>4</a>\u001b[0m message \u001b[39m=\u001b[39m [\n\u001b[1;32m      <a href='vscode-notebook-cell://codespaces%2Bfantastic-journey-gx96qwvvx9qhwr9/workspaces/generative_ai_projects/streamlit-rag/rag_testing.ipynb#W1sdnNjb2RlLXJlbW90ZQ%3D%3D?line=4'>5</a>\u001b[0m     SystemMessage(\n\u001b[1;32m      <a href='vscode-notebook-cell://codespaces%2Bfantastic-journey-gx96qwvvx9qhwr9/workspaces/generative_ai_projects/streamlit-rag/rag_testing.ipynb#W1sdnNjb2RlLXJlbW90ZQ%3D%3D?line=5'>6</a>\u001b[0m         content \u001b[39m=\u001b[39m \u001b[39m\"\"\"\u001b[39m\u001b[39m You\u001b[39m\u001b[39m'\u001b[39m\u001b[39mre an assistant knowledgable about healthcare. \u001b[39m\n\u001b[0;32m   (...)\u001b[0m\n\u001b[1;32m     <a href='vscode-notebook-cell://codespaces%2Bfantastic-journey-gx96qwvvx9qhwr9/workspaces/generative_ai_projects/streamlit-rag/rag_testing.ipynb#W1sdnNjb2RlLXJlbW90ZQ%3D%3D?line=10'>11</a>\u001b[0m     \n\u001b[1;32m     <a href='vscode-notebook-cell://codespaces%2Bfantastic-journey-gx96qwvvx9qhwr9/workspaces/generative_ai_projects/streamlit-rag/rag_testing.ipynb#W1sdnNjb2RlLXJlbW90ZQ%3D%3D?line=11'>12</a>\u001b[0m ]\n\u001b[1;32m     <a href='vscode-notebook-cell://codespaces%2Bfantastic-journey-gx96qwvvx9qhwr9/workspaces/generative_ai_projects/streamlit-rag/rag_testing.ipynb#W1sdnNjb2RlLXJlbW90ZQ%3D%3D?line=13'>14</a>\u001b[0m chat_model\u001b[39m.\u001b[39minvoke(message)\n",
      "\u001b[0;31mModuleNotFoundError\u001b[0m: No module named 'langchain_intro'"
     ]
    }
   ],
   "source": [
    "from langchain.schema.messages import HumanMessage, SystemMessage\n",
    "from langchain_intro.chatbot import chat_model\n",
    "\n",
    "message = [\n",
    "    SystemMessage(\n",
    "        content = \"\"\" You're an assistant knowledgable about healthcare. \n",
    "        Only answer healthcare-related questions\n",
    "        \"\"\"\n",
    "    ),\n",
    "    HumanMessage(content = \"What is Medicaid managed care?\"),\n",
    "    \n",
    "]\n",
    "\n",
    "chat_model.invoke(message)"
   ]
  },
  {
   "cell_type": "code",
   "execution_count": null,
   "metadata": {},
   "outputs": [],
   "source": []
  }
 ],
 "metadata": {
  "kernelspec": {
   "display_name": "Python 3",
   "language": "python",
   "name": "python3"
  },
  "language_info": {
   "codemirror_mode": {
    "name": "ipython",
    "version": 3
   },
   "file_extension": ".py",
   "mimetype": "text/x-python",
   "name": "python",
   "nbconvert_exporter": "python",
   "pygments_lexer": "ipython3",
   "version": "3.10.13"
  }
 },
 "nbformat": 4,
 "nbformat_minor": 2
}
